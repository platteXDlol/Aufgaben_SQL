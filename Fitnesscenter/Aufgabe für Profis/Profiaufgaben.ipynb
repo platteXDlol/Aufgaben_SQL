{
    "metadata": {
        "kernelspec": {
            "name": "SQL",
            "display_name": "SQL",
            "language": "sql"
        },
        "language_info": {
            "name": "sql",
            "version": ""
        }
    },
    "nbformat_minor": 2,
    "nbformat": 4,
    "cells": [
        {
            "cell_type": "code",
            "source": [
                "--Aufgabe_01--\r\n",
                "USE Fitnesscenter;\r\n",
                "SELECT DISTINCT Vorname, Nachname, Ortname, Kanton FROM Kunden JOIN Orte ON Kunden.Wohnort = Orte.OrtId"
            ],
            "metadata": {
                "azdata_cell_guid": "147bc57f-2109-4118-ba58-00d001d16b07",
                "language": "sql",
                "tags": []
            },
            "outputs": [
                {
                    "output_type": "display_data",
                    "data": {
                        "text/html": "(10 rows affected)"
                    },
                    "metadata": {}
                },
                {
                    "output_type": "display_data",
                    "data": {
                        "text/html": "Total execution time: 00:00:00.011"
                    },
                    "metadata": {}
                },
                {
                    "output_type": "execute_result",
                    "metadata": {},
                    "execution_count": 80,
                    "data": {
                        "application/vnd.dataresource+json": {
                            "schema": {
                                "fields": [
                                    {
                                        "name": "Vorname"
                                    },
                                    {
                                        "name": "Nachname"
                                    },
                                    {
                                        "name": "Ortname"
                                    },
                                    {
                                        "name": "Kanton"
                                    }
                                ]
                            },
                            "data": [
                                {
                                    "Vorname": "Admir",
                                    "Nachname": "Smajic",
                                    "Ortname": "Emmenbrücke",
                                    "Kanton": "LU"
                                },
                                {
                                    "Vorname": "Beatrix",
                                    "Nachname": "Hugentobler",
                                    "Ortname": "Emmen",
                                    "Kanton": "LU"
                                },
                                {
                                    "Vorname": "Erna",
                                    "Nachname": "Tschurtschenthaler",
                                    "Ortname": "Hildisrieden",
                                    "Kanton": "LU"
                                },
                                {
                                    "Vorname": "Franziska",
                                    "Nachname": "Tobler",
                                    "Ortname": "Luzern",
                                    "Kanton": "LU"
                                },
                                {
                                    "Vorname": "Joshua",
                                    "Nachname": "Pfister",
                                    "Ortname": "Ebikon",
                                    "Kanton": "LU"
                                },
                                {
                                    "Vorname": "Lars",
                                    "Nachname": "Ramseier",
                                    "Ortname": "Gisikon",
                                    "Kanton": "LU"
                                },
                                {
                                    "Vorname": "Michele",
                                    "Nachname": "dAngelo",
                                    "Ortname": "Luzern",
                                    "Kanton": "LU"
                                },
                                {
                                    "Vorname": "Petra",
                                    "Nachname": "Nussbaumer",
                                    "Ortname": "Hellbühl",
                                    "Kanton": "LU"
                                },
                                {
                                    "Vorname": "Viktor",
                                    "Nachname": "Meyer",
                                    "Ortname": "Obernau",
                                    "Kanton": "LU"
                                },
                                {
                                    "Vorname": "Yanick",
                                    "Nachname": "Merz",
                                    "Ortname": "Adligenswil",
                                    "Kanton": "LU"
                                }
                            ]
                        },
                        "text/html": [
                            "<table>",
                            "<tr><th>Vorname</th><th>Nachname</th><th>Ortname</th><th>Kanton</th></tr>",
                            "<tr><td>Admir</td><td>Smajic</td><td>Emmenbrücke</td><td>LU</td></tr>",
                            "<tr><td>Beatrix</td><td>Hugentobler</td><td>Emmen</td><td>LU</td></tr>",
                            "<tr><td>Erna</td><td>Tschurtschenthaler</td><td>Hildisrieden</td><td>LU</td></tr>",
                            "<tr><td>Franziska</td><td>Tobler</td><td>Luzern</td><td>LU</td></tr>",
                            "<tr><td>Joshua</td><td>Pfister</td><td>Ebikon</td><td>LU</td></tr>",
                            "<tr><td>Lars</td><td>Ramseier</td><td>Gisikon</td><td>LU</td></tr>",
                            "<tr><td>Michele</td><td>dAngelo</td><td>Luzern</td><td>LU</td></tr>",
                            "<tr><td>Petra</td><td>Nussbaumer</td><td>Hellbühl</td><td>LU</td></tr>",
                            "<tr><td>Viktor</td><td>Meyer</td><td>Obernau</td><td>LU</td></tr>",
                            "<tr><td>Yanick</td><td>Merz</td><td>Adligenswil</td><td>LU</td></tr>",
                            "</table>"
                        ]
                    }
                }
            ],
            "execution_count": 80
        },
        {
            "cell_type": "code",
            "source": [
                "--Aufgabe_02--\r\n",
                "USE FitnessCenter;\r\n",
                "SELECT Kunden.Nachname AS 'Kunden: Nachname', Kunden.Vorname, Mitarbeiter.Nachname AS 'Betreuer: Nachname', Mitarbeiter.Vorname, Notiz FROM Betreuung JOIN Kunden ON Betreuung.Kundennummer = Kunden.Kundennummer JOIN Mitarbeiter ON Betreuung.Personalnummer = Mitarbeiter.Personalnummer"
            ],
            "metadata": {
                "azdata_cell_guid": "e0548e86-bdbe-4f21-ab8f-2dbfa4e3f0a1",
                "language": "sql"
            },
            "outputs": [
                {
                    "output_type": "display_data",
                    "data": {
                        "text/html": "(4 rows affected)"
                    },
                    "metadata": {}
                },
                {
                    "output_type": "display_data",
                    "data": {
                        "text/html": "Total execution time: 00:00:00.012"
                    },
                    "metadata": {}
                },
                {
                    "output_type": "execute_result",
                    "metadata": {},
                    "execution_count": 90,
                    "data": {
                        "application/vnd.dataresource+json": {
                            "schema": {
                                "fields": [
                                    {
                                        "name": "Kunden: Nachname"
                                    },
                                    {
                                        "name": "Vorname"
                                    },
                                    {
                                        "name": "Betreuer: Nachname"
                                    },
                                    {
                                        "name": "Vorname"
                                    },
                                    {
                                        "name": "Notiz"
                                    }
                                ]
                            },
                            "data": [
                                {
                                    "Kunden: Nachname": "Meyer",
                                    "Vorname": "Jürg",
                                    "Betreuer: Nachname": "Müller",
                                    "Notiz": "Bandscheiben vorfall, Rückenübungen"
                                },
                                {
                                    "Kunden: Nachname": "Meyer",
                                    "Vorname": "Markus",
                                    "Betreuer: Nachname": "Meister",
                                    "Notiz": "Koordinations probleme"
                                },
                                {
                                    "Kunden: Nachname": "Merz",
                                    "Vorname": "Rafael",
                                    "Betreuer: Nachname": "Szanislo",
                                    "Notiz": "Muskelaufbau"
                                },
                                {
                                    "Kunden: Nachname": "Tschurtschenthaler",
                                    "Vorname": "Markus",
                                    "Betreuer: Nachname": "Meister",
                                    "Notiz": "Rehabilitation einer Verletzung beim Sportunfall"
                                }
                            ]
                        },
                        "text/html": [
                            "<table>",
                            "<tr><th>Kunden: Nachname</th><th>Vorname</th><th>Betreuer: Nachname</th><th>Vorname</th><th>Notiz</th></tr>",
                            "<tr><td>Meyer</td><td>Viktor</td><td>Müller</td><td>Jürg</td><td>Bandscheiben vorfall, Rückenübungen</td></tr>",
                            "<tr><td>Meyer</td><td>Viktor</td><td>Meister</td><td>Markus</td><td>Koordinations probleme</td></tr>",
                            "<tr><td>Merz</td><td>Yanick</td><td>Szanislo</td><td>Rafael</td><td>Muskelaufbau</td></tr>",
                            "<tr><td>Tschurtschenthaler</td><td>Erna</td><td>Meister</td><td>Markus</td><td>Rehabilitation einer Verletzung beim Sportunfall</td></tr>",
                            "</table>"
                        ]
                    }
                }
            ],
            "execution_count": 90
        }
    ]
}