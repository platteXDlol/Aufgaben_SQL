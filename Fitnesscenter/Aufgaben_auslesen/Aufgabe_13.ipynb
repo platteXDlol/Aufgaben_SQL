{
    "metadata": {
        "kernelspec": {
            "name": "SQL",
            "display_name": "SQL",
            "language": "sql"
        },
        "language_info": {
            "name": "sql",
            "version": ""
        }
    },
    "nbformat_minor": 2,
    "nbformat": 4,
    "cells": [
        {
            "cell_type": "code",
            "source": [
                "USE FitnessCenter;\r\n",
                "SELECT SUM(Monatslohn) AS Monatssumme, SUM(Monatslohn * '12') AS Jahressumme FROM Mitarbeiter\r\n",
                ""
            ],
            "metadata": {
                "azdata_cell_guid": "8416dd60-595d-49e4-9145-17d255911987",
                "language": "sql"
            },
            "outputs": [
                {
                    "output_type": "display_data",
                    "data": {
                        "text/html": "(1 row affected)"
                    },
                    "metadata": {}
                },
                {
                    "output_type": "display_data",
                    "data": {
                        "text/html": "Total execution time: 00:00:00.010"
                    },
                    "metadata": {}
                },
                {
                    "output_type": "execute_result",
                    "metadata": {},
                    "execution_count": 10,
                    "data": {
                        "application/vnd.dataresource+json": {
                            "schema": {
                                "fields": [
                                    {
                                        "name": "Monatssumme"
                                    },
                                    {
                                        "name": "Jahressumme"
                                    }
                                ]
                            },
                            "data": [
                                {
                                    "Monatssumme": "20300",
                                    "Jahressumme": "243600"
                                }
                            ]
                        },
                        "text/html": [
                            "<table>",
                            "<tr><th>Monatssumme</th><th>Jahressumme</th></tr>",
                            "<tr><td>20300</td><td>243600</td></tr>",
                            "</table>"
                        ]
                    }
                }
            ],
            "execution_count": 10
        }
    ]
}