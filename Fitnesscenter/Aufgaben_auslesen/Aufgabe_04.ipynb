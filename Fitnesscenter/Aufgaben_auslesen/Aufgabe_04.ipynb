{
    "metadata": {
        "kernelspec": {
            "name": "SQL",
            "display_name": "SQL",
            "language": "sql"
        },
        "language_info": {
            "name": "sql",
            "version": ""
        }
    },
    "nbformat_minor": 2,
    "nbformat": 4,
    "cells": [
        {
            "cell_type": "code",
            "source": [
                "USE FitnessCenter;\r\n",
                "SELECT DISTINCT Ortname FROM Orte WHERE Ortname LIKE '%ägeri%'"
            ],
            "metadata": {
                "azdata_cell_guid": "6dbd5429-8bb4-492f-b4b6-20d901f0afe5",
                "language": "sql"
            },
            "outputs": [
                {
                    "output_type": "display_data",
                    "data": {
                        "text/html": "(4 rows affected)"
                    },
                    "metadata": {}
                },
                {
                    "output_type": "display_data",
                    "data": {
                        "text/html": "Total execution time: 00:00:00.030"
                    },
                    "metadata": {}
                },
                {
                    "output_type": "execute_result",
                    "execution_count": 1,
                    "data": {
                        "application/vnd.dataresource+json": {
                            "schema": {
                                "fields": [
                                    {
                                        "name": "Ortname"
                                    }
                                ]
                            },
                            "data": [
                                {
                                    "Ortname": "Neuägeri"
                                },
                                {
                                    "Ortname": "Oberägeri"
                                },
                                {
                                    "Ortname": "Tägerig"
                                },
                                {
                                    "Ortname": "Unterägeri"
                                }
                            ]
                        },
                        "text/html": "<table><tr><th>Ortname</th></tr><tr><td>Neuägeri</td></tr><tr><td>Oberägeri</td></tr><tr><td>Tägerig</td></tr><tr><td>Unterägeri</td></tr></table>"
                    },
                    "metadata": {}
                }
            ],
            "execution_count": 1
        }
    ]
}