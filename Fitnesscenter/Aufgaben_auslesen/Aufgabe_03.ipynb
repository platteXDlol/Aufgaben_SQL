{
    "metadata": {
        "kernelspec": {
            "name": "SQL",
            "display_name": "SQL",
            "language": "sql"
        },
        "language_info": {
            "name": "sql",
            "version": ""
        }
    },
    "nbformat_minor": 2,
    "nbformat": 4,
    "cells": [
        {
            "cell_type": "code",
            "source": [
                "USE FitnessCenter;\r\n",
                "SELECT DISTINCT Ortname FROM Orte WHERE Kanton = 'ZG' ORDER BY Ortname"
            ],
            "metadata": {
                "azdata_cell_guid": "2e3aef84-678d-4e73-9c77-085f4553b21a",
                "language": "sql"
            },
            "outputs": [
                {
                    "output_type": "display_data",
                    "data": {
                        "text/html": "(25 rows affected)"
                    },
                    "metadata": {}
                },
                {
                    "output_type": "display_data",
                    "data": {
                        "text/html": "Total execution time: 00:00:00.007"
                    },
                    "metadata": {}
                },
                {
                    "output_type": "execute_result",
                    "execution_count": 1,
                    "data": {
                        "application/vnd.dataresource+json": {
                            "schema": {
                                "fields": [
                                    {
                                        "name": "Ortname"
                                    }
                                ]
                            },
                            "data": [
                                {
                                    "Ortname": "Allenwinden"
                                },
                                {
                                    "Ortname": "Alosen"
                                },
                                {
                                    "Ortname": "Baar"
                                },
                                {
                                    "Ortname": "Buonas"
                                },
                                {
                                    "Ortname": "Cham"
                                },
                                {
                                    "Ortname": "Edlibach"
                                },
                                {
                                    "Ortname": "Finstersee"
                                },
                                {
                                    "Ortname": "Hagendorn"
                                },
                                {
                                    "Ortname": "Holzhäusern ZG"
                                },
                                {
                                    "Ortname": "Hünenberg"
                                },
                                {
                                    "Ortname": "Hünenberg See"
                                },
                                {
                                    "Ortname": "Menzingen"
                                },
                                {
                                    "Ortname": "Morgarten"
                                },
                                {
                                    "Ortname": "Neuägeri"
                                },
                                {
                                    "Ortname": "Neuheim"
                                },
                                {
                                    "Ortname": "Oberägeri"
                                },
                                {
                                    "Ortname": "Oberwil b. Zug"
                                },
                                {
                                    "Ortname": "Risch"
                                },
                                {
                                    "Ortname": "Rotkreuz"
                                },
                                {
                                    "Ortname": "Sihlbrugg"
                                },
                                {
                                    "Ortname": "Steinhausen"
                                },
                                {
                                    "Ortname": "Unterägeri"
                                },
                                {
                                    "Ortname": "Walchwil"
                                },
                                {
                                    "Ortname": "Zug"
                                },
                                {
                                    "Ortname": "Zugerberg"
                                }
                            ]
                        },
                        "text/html": "<table><tr><th>Ortname</th></tr><tr><td>Allenwinden</td></tr><tr><td>Alosen</td></tr><tr><td>Baar</td></tr><tr><td>Buonas</td></tr><tr><td>Cham</td></tr><tr><td>Edlibach</td></tr><tr><td>Finstersee</td></tr><tr><td>Hagendorn</td></tr><tr><td>Holzhäusern ZG</td></tr><tr><td>Hünenberg</td></tr><tr><td>Hünenberg See</td></tr><tr><td>Menzingen</td></tr><tr><td>Morgarten</td></tr><tr><td>Neuägeri</td></tr><tr><td>Neuheim</td></tr><tr><td>Oberägeri</td></tr><tr><td>Oberwil b. Zug</td></tr><tr><td>Risch</td></tr><tr><td>Rotkreuz</td></tr><tr><td>Sihlbrugg</td></tr><tr><td>Steinhausen</td></tr><tr><td>Unterägeri</td></tr><tr><td>Walchwil</td></tr><tr><td>Zug</td></tr><tr><td>Zugerberg</td></tr></table>"
                    },
                    "metadata": {}
                }
            ],
            "execution_count": 1
        }
    ]
}