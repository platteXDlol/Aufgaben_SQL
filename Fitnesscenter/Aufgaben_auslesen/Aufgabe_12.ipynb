{
    "metadata": {
        "kernelspec": {
            "name": "SQL",
            "display_name": "SQL",
            "language": "sql"
        },
        "language_info": {
            "name": "sql",
            "version": ""
        }
    },
    "nbformat_minor": 2,
    "nbformat": 4,
    "cells": [
        {
            "cell_type": "code",
            "source": [
                "USE FitnessCenter;\r\n",
                "SELECT * FROM Kunden WHERE Geburtsdatum BETWEEN '1960-01-01' AND '1960-12-31'"
            ],
            "metadata": {
                "azdata_cell_guid": "8c160359-7fd8-406e-951e-ea763ccbeda7",
                "language": "sql"
            },
            "outputs": [
                {
                    "output_type": "display_data",
                    "data": {
                        "text/html": "(1 row affected)"
                    },
                    "metadata": {}
                },
                {
                    "output_type": "display_data",
                    "data": {
                        "text/html": "Total execution time: 00:00:00.012"
                    },
                    "metadata": {}
                },
                {
                    "output_type": "execute_result",
                    "metadata": {},
                    "execution_count": 1,
                    "data": {
                        "application/vnd.dataresource+json": {
                            "schema": {
                                "fields": [
                                    {
                                        "name": "Kundennummer"
                                    },
                                    {
                                        "name": "Vorname"
                                    },
                                    {
                                        "name": "Nachname"
                                    },
                                    {
                                        "name": "Geschlecht"
                                    },
                                    {
                                        "name": "Geburtsdatum"
                                    },
                                    {
                                        "name": "Wohnort"
                                    },
                                    {
                                        "name": "Krankenkasse"
                                    }
                                ]
                            },
                            "data": [
                                {
                                    "Kundennummer": "2",
                                    "Vorname": "Viktor",
                                    "Nachname": "Meyer",
                                    "Geschlecht": "m",
                                    "Geburtsdatum": "1960-12-18 00:00:00",
                                    "Wohnort": "1939",
                                    "Krankenkasse": "Group Mutuel"
                                }
                            ]
                        },
                        "text/html": [
                            "<table>",
                            "<tr><th>Kundennummer</th><th>Vorname</th><th>Nachname</th><th>Geschlecht</th><th>Geburtsdatum</th><th>Wohnort</th><th>Krankenkasse</th></tr>",
                            "<tr><td>2</td><td>Viktor</td><td>Meyer</td><td>m</td><td>1960-12-18 00:00:00</td><td>1939</td><td>Group Mutuel</td></tr>",
                            "</table>"
                        ]
                    }
                }
            ],
            "execution_count": 1
        }
    ]
}