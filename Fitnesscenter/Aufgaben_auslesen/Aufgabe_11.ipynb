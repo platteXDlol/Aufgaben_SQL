{
    "metadata": {
        "kernelspec": {
            "name": "SQL",
            "display_name": "SQL",
            "language": "sql"
        },
        "language_info": {
            "name": "sql",
            "version": ""
        }
    },
    "nbformat_minor": 2,
    "nbformat": 4,
    "cells": [
        {
            "cell_type": "code",
            "source": [
                "USE FitnessCenter;\r\n",
                "SELECT * FROM Kunden WHERE Krankenkasse IS NOT NULL AND Geburtsdatum >= '1990-01-01'"
            ],
            "metadata": {
                "azdata_cell_guid": "5e513599-4fbb-450b-b1b8-d5aae3e20d84",
                "language": "sql"
            },
            "outputs": [
                {
                    "output_type": "display_data",
                    "data": {
                        "text/html": "(2 rows affected)"
                    },
                    "metadata": {}
                },
                {
                    "output_type": "display_data",
                    "data": {
                        "text/html": "Total execution time: 00:00:00.006"
                    },
                    "metadata": {}
                },
                {
                    "output_type": "execute_result",
                    "execution_count": 1,
                    "data": {
                        "application/vnd.dataresource+json": {
                            "schema": {
                                "fields": [
                                    {
                                        "name": "Kundennummer"
                                    },
                                    {
                                        "name": "Vorname"
                                    },
                                    {
                                        "name": "Nachname"
                                    },
                                    {
                                        "name": "Geschlecht"
                                    },
                                    {
                                        "name": "Geburtsdatum"
                                    },
                                    {
                                        "name": "Wohnort"
                                    },
                                    {
                                        "name": "Krankenkasse"
                                    }
                                ]
                            },
                            "data": [
                                {
                                    "Kundennummer": "4",
                                    "Vorname": "Joshua",
                                    "Nachname": "Pfister",
                                    "Geschlecht": "m",
                                    "Geburtsdatum": "2001-05-28 00:00:00",
                                    "Wohnort": "1955",
                                    "Krankenkasse": "Concordia"
                                },
                                {
                                    "Kundennummer": "6",
                                    "Vorname": "Michele",
                                    "Nachname": "dAngelo",
                                    "Geschlecht": "m",
                                    "Geburtsdatum": "2002-06-30 00:00:00",
                                    "Wohnort": "1934",
                                    "Krankenkasse": "CSS Versicherung"
                                }
                            ]
                        },
                        "text/html": "<table><tr><th>Kundennummer</th><th>Vorname</th><th>Nachname</th><th>Geschlecht</th><th>Geburtsdatum</th><th>Wohnort</th><th>Krankenkasse</th></tr><tr><td>4</td><td>Joshua</td><td>Pfister</td><td>m</td><td>2001-05-28 00:00:00</td><td>1955</td><td>Concordia</td></tr><tr><td>6</td><td>Michele</td><td>dAngelo</td><td>m</td><td>2002-06-30 00:00:00</td><td>1934</td><td>CSS Versicherung</td></tr></table>"
                    },
                    "metadata": {}
                }
            ],
            "execution_count": 1
        }
    ]
}