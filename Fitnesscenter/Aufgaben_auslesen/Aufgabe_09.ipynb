{
    "metadata": {
        "kernelspec": {
            "name": "SQL",
            "display_name": "SQL",
            "language": "sql"
        },
        "language_info": {
            "name": "sql",
            "version": ""
        }
    },
    "nbformat_minor": 2,
    "nbformat": 4,
    "cells": [
        {
            "cell_type": "code",
            "source": [
                "USE FitnessCenter;\r\n",
                "SELECT DISTINCT * FROM Kunden Where Krankenkasse IS NULL"
            ],
            "metadata": {
                "azdata_cell_guid": "2f8b784f-f9e2-49c0-bfc2-09814ec3e623",
                "language": "sql"
            },
            "outputs": [
                {
                    "output_type": "display_data",
                    "data": {
                        "text/html": "(2 rows affected)"
                    },
                    "metadata": {}
                },
                {
                    "output_type": "display_data",
                    "data": {
                        "text/html": "Total execution time: 00:00:00.005"
                    },
                    "metadata": {}
                },
                {
                    "output_type": "execute_result",
                    "execution_count": 1,
                    "data": {
                        "application/vnd.dataresource+json": {
                            "schema": {
                                "fields": [
                                    {
                                        "name": "Kundennummer"
                                    },
                                    {
                                        "name": "Vorname"
                                    },
                                    {
                                        "name": "Nachname"
                                    },
                                    {
                                        "name": "Geschlecht"
                                    },
                                    {
                                        "name": "Geburtsdatum"
                                    },
                                    {
                                        "name": "Wohnort"
                                    },
                                    {
                                        "name": "Krankenkasse"
                                    }
                                ]
                            },
                            "data": [
                                {
                                    "Kundennummer": "3",
                                    "Vorname": "Yanick",
                                    "Nachname": "Merz",
                                    "Geschlecht": "m",
                                    "Geburtsdatum": "1996-08-03 00:00:00",
                                    "Wohnort": "1964",
                                    "Krankenkasse": "NULL"
                                },
                                {
                                    "Kundennummer": "9",
                                    "Vorname": "Lars",
                                    "Nachname": "Ramseier",
                                    "Geschlecht": "m",
                                    "Geburtsdatum": "1999-01-25 00:00:00",
                                    "Wohnort": "1962",
                                    "Krankenkasse": "NULL"
                                }
                            ]
                        },
                        "text/html": "<table><tr><th>Kundennummer</th><th>Vorname</th><th>Nachname</th><th>Geschlecht</th><th>Geburtsdatum</th><th>Wohnort</th><th>Krankenkasse</th></tr><tr><td>3</td><td>Yanick</td><td>Merz</td><td>m</td><td>1996-08-03 00:00:00</td><td>1964</td><td>NULL</td></tr><tr><td>9</td><td>Lars</td><td>Ramseier</td><td>m</td><td>1999-01-25 00:00:00</td><td>1962</td><td>NULL</td></tr></table>"
                    },
                    "metadata": {}
                }
            ],
            "execution_count": 1
        }
    ]
}