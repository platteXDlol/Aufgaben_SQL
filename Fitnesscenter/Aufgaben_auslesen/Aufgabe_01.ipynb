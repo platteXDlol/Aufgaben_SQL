{
    "metadata": {
        "kernelspec": {
            "name": "SQL",
            "display_name": "SQL",
            "language": "sql"
        },
        "language_info": {
            "name": "sql",
            "version": ""
        }
    },
    "nbformat_minor": 2,
    "nbformat": 4,
    "cells": [
        {
            "cell_type": "code",
            "source": [
                "USE FitnessCenter;\r\n",
                "SELECT nachname, vorname FROM Kunden WHERE Geschlecht = 'w'"
            ],
            "metadata": {
                "azdata_cell_guid": "241a0433-fcdd-43b7-a81d-70b13973a2b9",
                "language": "sql"
            },
            "outputs": [
                {
                    "output_type": "display_data",
                    "data": {
                        "text/html": "(4 rows affected)"
                    },
                    "metadata": {}
                },
                {
                    "output_type": "display_data",
                    "data": {
                        "text/html": "Total execution time: 00:00:00.026"
                    },
                    "metadata": {}
                },
                {
                    "output_type": "execute_result",
                    "metadata": {},
                    "execution_count": 1,
                    "data": {
                        "application/vnd.dataresource+json": {
                            "schema": {
                                "fields": [
                                    {
                                        "name": "nachname"
                                    },
                                    {
                                        "name": "vorname"
                                    }
                                ]
                            },
                            "data": [
                                {
                                    "nachname": "Hugentobler",
                                    "vorname": "Beatrix"
                                },
                                {
                                    "nachname": "Tobler",
                                    "vorname": "Franziska"
                                },
                                {
                                    "nachname": "Nussbaumer",
                                    "vorname": "Petra"
                                },
                                {
                                    "nachname": "Tschurtschenthaler",
                                    "vorname": "Erna"
                                }
                            ]
                        },
                        "text/html": [
                            "<table>",
                            "<tr><th>nachname</th><th>vorname</th></tr>",
                            "<tr><td>Hugentobler</td><td>Beatrix</td></tr>",
                            "<tr><td>Tobler</td><td>Franziska</td></tr>",
                            "<tr><td>Nussbaumer</td><td>Petra</td></tr>",
                            "<tr><td>Tschurtschenthaler</td><td>Erna</td></tr>",
                            "</table>"
                        ]
                    }
                }
            ],
            "execution_count": 1
        }
    ]
}