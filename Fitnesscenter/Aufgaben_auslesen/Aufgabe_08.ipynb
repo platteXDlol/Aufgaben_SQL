{
    "metadata": {
        "kernelspec": {
            "name": "SQL",
            "display_name": "SQL",
            "language": "sql"
        },
        "language_info": {
            "name": "sql",
            "version": ""
        }
    },
    "nbformat_minor": 2,
    "nbformat": 4,
    "cells": [
        {
            "cell_type": "code",
            "source": [
                "USE FitnessCenter;\r\n",
                "SELECT DISTINCT Vorname, Nachname FROM Mitarbeiter WHERE Nachname = 'Müller'\r\n",
                ""
            ],
            "metadata": {
                "azdata_cell_guid": "2f497fc9-93ec-4078-992a-c02be2355e1a",
                "language": "sql"
            },
            "outputs": [
                {
                    "output_type": "display_data",
                    "data": {
                        "text/html": "(1 row affected)"
                    },
                    "metadata": {}
                },
                {
                    "output_type": "display_data",
                    "data": {
                        "text/html": "Total execution time: 00:00:00.004"
                    },
                    "metadata": {}
                },
                {
                    "output_type": "execute_result",
                    "execution_count": 1,
                    "data": {
                        "application/vnd.dataresource+json": {
                            "schema": {
                                "fields": [
                                    {
                                        "name": "Vorname"
                                    },
                                    {
                                        "name": "Nachname"
                                    }
                                ]
                            },
                            "data": [
                                {
                                    "Vorname": "Jürg",
                                    "Nachname": "Müller"
                                }
                            ]
                        },
                        "text/html": "<table><tr><th>Vorname</th><th>Nachname</th></tr><tr><td>Jürg</td><td>Müller</td></tr></table>"
                    },
                    "metadata": {}
                }
            ],
            "execution_count": 1
        }
    ]
}