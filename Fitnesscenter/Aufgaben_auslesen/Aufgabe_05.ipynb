{
    "metadata": {
        "kernelspec": {
            "name": "SQL",
            "display_name": "SQL",
            "language": "sql"
        },
        "language_info": {
            "name": "sql",
            "version": ""
        }
    },
    "nbformat_minor": 2,
    "nbformat": 4,
    "cells": [
        {
            "cell_type": "code",
            "source": [
                "USE FitnessCenter;\r\n",
                "SELECT DISTINCT Kanton FROM Orte WHERE ortname = 'Pully' OR ortname = 'Muttenz ' OR ortname = 'Urdorf'"
            ],
            "metadata": {
                "azdata_cell_guid": "4f2ca05c-687c-486d-a330-ff49cb54fc4f",
                "language": "sql"
            },
            "outputs": [],
            "execution_count": null
        }
    ]
}