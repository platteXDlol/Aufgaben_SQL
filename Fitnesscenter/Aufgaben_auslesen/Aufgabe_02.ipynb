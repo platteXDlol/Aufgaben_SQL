{
    "metadata": {
        "kernelspec": {
            "name": "SQL",
            "display_name": "SQL",
            "language": "sql"
        },
        "language_info": {
            "name": "sql",
            "version": ""
        }
    },
    "nbformat_minor": 2,
    "nbformat": 4,
    "cells": [
        {
            "cell_type": "code",
            "source": [
                "USE FitnessCenter;\r\n",
                "SELECT DISTINCT PLZ FROM Orte WHERE Ortname = 'Untersiggenthal' "
            ],
            "metadata": {
                "azdata_cell_guid": "7ae361a9-3300-4a6b-86e8-50524d12c2f1",
                "language": "sql"
            },
            "outputs": [
                {
                    "output_type": "display_data",
                    "data": {
                        "text/html": "(1 row affected)"
                    },
                    "metadata": {}
                },
                {
                    "output_type": "display_data",
                    "data": {
                        "text/html": "Total execution time: 00:00:00.010"
                    },
                    "metadata": {}
                },
                {
                    "output_type": "execute_result",
                    "execution_count": 1,
                    "data": {
                        "application/vnd.dataresource+json": {
                            "schema": {
                                "fields": [
                                    {
                                        "name": "PLZ"
                                    }
                                ]
                            },
                            "data": [
                                {
                                    "PLZ": "5417"
                                }
                            ]
                        },
                        "text/html": "<table><tr><th>PLZ</th></tr><tr><td>5417</td></tr></table>"
                    },
                    "metadata": {}
                }
            ],
            "execution_count": 1
        }
    ]
}