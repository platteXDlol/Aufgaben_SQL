{
    "metadata": {
        "kernelspec": {
            "name": "SQL",
            "display_name": "SQL",
            "language": "sql"
        },
        "language_info": {
            "name": "sql",
            "version": ""
        }
    },
    "nbformat_minor": 2,
    "nbformat": 4,
    "cells": [
        {
            "cell_type": "code",
            "source": [
                "USE FitnessCenter;\r\n",
                "SELECT DISTINCT * FROM Kunden WHERE Krankenkasse = 'Group Mutuel'"
            ],
            "metadata": {
                "azdata_cell_guid": "a991f61b-8413-444a-a4ad-f15c62accc0a",
                "language": "sql"
            },
            "outputs": [],
            "execution_count": null
        }
    ]
}