{
    "metadata": {
        "kernelspec": {
            "name": "SQL",
            "display_name": "SQL",
            "language": "sql"
        },
        "language_info": {
            "name": "sql",
            "version": ""
        }
    },
    "nbformat_minor": 2,
    "nbformat": 4,
    "cells": [
        {
            "cell_type": "code",
            "source": [
                "USE FitnessCenter;\r\n",
                "SELECT DISTINCT * FROM Kunden WHERE Geschlecht = 'w' AND Vorname LIKE '%a'\r\n",
                ""
            ],
            "metadata": {
                "azdata_cell_guid": "0bf2d13a-244a-4911-bbd9-a90a834d536c",
                "language": "sql"
            },
            "outputs": [],
            "execution_count": null
        }
    ]
}