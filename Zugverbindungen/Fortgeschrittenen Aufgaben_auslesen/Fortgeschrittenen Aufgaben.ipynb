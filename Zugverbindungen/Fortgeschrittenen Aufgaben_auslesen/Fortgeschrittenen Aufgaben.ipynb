{
    "metadata": {
        "kernelspec": {
            "name": "SQL",
            "display_name": "SQL",
            "language": "sql"
        },
        "language_info": {
            "name": "sql",
            "version": ""
        }
    },
    "nbformat_minor": 2,
    "nbformat": 4,
    "cells": [
        {
            "cell_type": "code",
            "source": [
                "--Augabe_01--\r\n",
                "USE Zugdatenbank;\r\n",
                "SELECT Gleise, Name FROM Bahnhoefe WHERE Gleise = (SELECT MAX(Gleise) FROM Bahnhoefe)"
            ],
            "metadata": {
                "azdata_cell_guid": "bd317424-3d89-45e6-afaf-6f5ee8d601d1",
                "language": "sql",
                "tags": [
                    "hide_input"
                ]
            },
            "outputs": [
                {
                    "output_type": "display_data",
                    "data": {
                        "text/html": "(1 row affected)"
                    },
                    "metadata": {}
                },
                {
                    "output_type": "display_data",
                    "data": {
                        "text/html": "Total execution time: 00:00:00.008"
                    },
                    "metadata": {}
                },
                {
                    "output_type": "execute_result",
                    "execution_count": 21,
                    "data": {
                        "application/vnd.dataresource+json": {
                            "schema": {
                                "fields": [
                                    {
                                        "name": "Gleise"
                                    },
                                    {
                                        "name": "Name"
                                    }
                                ]
                            },
                            "data": [
                                {
                                    "Gleise": "52",
                                    "Name": "Zürich HB"
                                }
                            ]
                        },
                        "text/html": "<table><tr><th>Gleise</th><th>Name</th></tr><tr><td>52</td><td>Zürich HB</td></tr></table>"
                    },
                    "metadata": {}
                }
            ],
            "execution_count": 21
        },
        {
            "cell_type": "code",
            "source": [
                "--Aufgabe_02--\r\n",
                "USE Zugdatenbank;\r\n",
                "SELECT Gleise, Name FROM Bahnhoefe WHERE Gleise < (SELECT AVG(Gleise) FROM Bahnhoefe)"
            ],
            "metadata": {
                "azdata_cell_guid": "1bdab640-2386-42e8-87a3-c425d51ebe00",
                "language": "sql",
                "tags": [
                    "hide_input"
                ]
            },
            "outputs": [
                {
                    "output_type": "display_data",
                    "data": {
                        "text/html": "(5 rows affected)"
                    },
                    "metadata": {}
                },
                {
                    "output_type": "display_data",
                    "data": {
                        "text/html": "Total execution time: 00:00:00.024"
                    },
                    "metadata": {}
                },
                {
                    "output_type": "execute_result",
                    "execution_count": 13,
                    "data": {
                        "application/vnd.dataresource+json": {
                            "schema": {
                                "fields": [
                                    {
                                        "name": "Gleise"
                                    },
                                    {
                                        "name": "Name"
                                    }
                                ]
                            },
                            "data": [
                                {
                                    "Gleise": "7",
                                    "Name": "Baden"
                                },
                                {
                                    "Gleise": "4",
                                    "Name": "Basel Bad"
                                },
                                {
                                    "Gleise": "3",
                                    "Name": "Horw"
                                },
                                {
                                    "Gleise": "5",
                                    "Name": "Thalwil"
                                },
                                {
                                    "Gleise": "8",
                                    "Name": "Zug"
                                }
                            ]
                        },
                        "text/html": "<table><tr><th>Gleise</th><th>Name</th></tr><tr><td>7</td><td>Baden</td></tr><tr><td>4</td><td>Basel Bad</td></tr><tr><td>3</td><td>Horw</td></tr><tr><td>5</td><td>Thalwil</td></tr><tr><td>8</td><td>Zug</td></tr></table>"
                    },
                    "metadata": {}
                }
            ],
            "execution_count": 13
        },
        {
            "cell_type": "code",
            "source": [
                "--Aufgaben_03--\r\n",
                "USE Zugdatenbank;\r\n",
                "\r\n",
                "SELECT LiegtInOrt, COUNT(Name) AS 'AnzahlBahnhoefe' FROM Bahnhoefe GROUP BY LiegtInOrt HAVING COUNT(Name) > 1;\r\n",
                ""
            ],
            "metadata": {
                "azdata_cell_guid": "1b0fe7dd-6641-4538-a5ee-59f9dc54b2ae",
                "language": "sql"
            },
            "outputs": [
                {
                    "output_type": "display_data",
                    "data": {
                        "text/html": "(1 row affected)"
                    },
                    "metadata": {}
                },
                {
                    "output_type": "display_data",
                    "data": {
                        "text/html": "Total execution time: 00:00:00.018"
                    },
                    "metadata": {}
                },
                {
                    "output_type": "execute_result",
                    "execution_count": 35,
                    "data": {
                        "application/vnd.dataresource+json": {
                            "schema": {
                                "fields": [
                                    {
                                        "name": "LiegtInOrt"
                                    },
                                    {
                                        "name": "AnzahlBahnhoefe"
                                    }
                                ]
                            },
                            "data": [
                                {
                                    "LiegtInOrt": "Basel",
                                    "AnzahlBahnhoefe": "2"
                                }
                            ]
                        },
                        "text/html": "<table><tr><th>LiegtInOrt</th><th>AnzahlBahnhoefe</th></tr><tr><td>Basel</td><td>2</td></tr></table>"
                    },
                    "metadata": {}
                }
            ],
            "execution_count": 35
        },
        {
            "cell_type": "code",
            "source": [
                "--Aufgabe_04--\r\n",
                "USE Zugdatenbank;\r\n",
                "SELECT Zug, Abfahrt FROM Verbindet WHERE Von = 'Basel SBB' AND Abfahrt > (SELECT MAX(Ankunft) FROM Verbindet WHERE Nach = 'Basel SBB'  )"
            ],
            "metadata": {
                "azdata_cell_guid": "b2a974fa-4832-476b-b40a-2d6c5c5e3ad1",
                "language": "sql",
                "tags": []
            },
            "outputs": [
                {
                    "output_type": "display_data",
                    "data": {
                        "text/html": "(1 row affected)"
                    },
                    "metadata": {}
                },
                {
                    "output_type": "display_data",
                    "data": {
                        "text/html": "Total execution time: 00:00:00.036"
                    },
                    "metadata": {}
                },
                {
                    "output_type": "execute_result",
                    "execution_count": 40,
                    "data": {
                        "application/vnd.dataresource+json": {
                            "schema": {
                                "fields": [
                                    {
                                        "name": "Zug"
                                    },
                                    {
                                        "name": "Abfahrt"
                                    }
                                ]
                            },
                            "data": [
                                {
                                    "Zug": "6",
                                    "Abfahrt": "15:12:00"
                                }
                            ]
                        },
                        "text/html": "<table><tr><th>Zug</th><th>Abfahrt</th></tr><tr><td>6</td><td>15:12:00</td></tr></table>"
                    },
                    "metadata": {}
                }
            ],
            "execution_count": 40
        },
        {
            "cell_type": "code",
            "source": [
                "--Aufgabe_05--\n",
                "USE Zugdatenbank;\n",
                ""
            ],
            "metadata": {
                "azdata_cell_guid": "805ed2ad-005b-4842-8ce0-a71bf31dcbfa",
                "language": "sql"
            },
            "outputs": [
                {
                    "output_type": "error",
                    "ename": "",
                    "evalue": "Msg 130, Level 15, State 1, Line 4\r\nCannot perform an aggregate function on an expression containing an aggregate or a subquery.",
                    "traceback": []
                },
                {
                    "output_type": "error",
                    "ename": "",
                    "evalue": "Msg 207, Level 16, State 1, Line 4\r\nInvalid column name 'Ankunft'.",
                    "traceback": []
                },
                {
                    "output_type": "error",
                    "ename": "",
                    "evalue": "Msg 207, Level 16, State 1, Line 4\r\nInvalid column name 'Abfahrt'.",
                    "traceback": []
                },
                {
                    "output_type": "error",
                    "ename": "",
                    "evalue": "Msg 207, Level 16, State 1, Line 4\r\nInvalid column name 'Ankunft'.",
                    "traceback": []
                },
                {
                    "output_type": "error",
                    "ename": "",
                    "evalue": "Msg 207, Level 16, State 1, Line 4\r\nInvalid column name 'Abfahrt'.",
                    "traceback": []
                },
                {
                    "output_type": "error",
                    "ename": "",
                    "evalue": "Msg 207, Level 16, State 1, Line 4\r\nInvalid column name 'Ankunft'.",
                    "traceback": []
                },
                {
                    "output_type": "display_data",
                    "data": {
                        "text/html": "Total execution time: 00:00:00.002"
                    },
                    "metadata": {}
                }
            ],
            "execution_count": 16
        }
    ]
}