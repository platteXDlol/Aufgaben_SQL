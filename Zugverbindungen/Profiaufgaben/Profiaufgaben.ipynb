{
    "metadata": {
        "kernelspec": {
            "name": "SQL",
            "display_name": "SQL",
            "language": "sql"
        },
        "language_info": {
            "name": "sql",
            "version": ""
        }
    },
    "nbformat_minor": 2,
    "nbformat": 4,
    "cells": [
        {
            "cell_type": "code",
            "source": [
                "USE Zugdatenbank\r\n",
                "SELECT DISTINCT Verbindet.Nach AS Bahnhof, Bahnhoefe.LiegtInKanton AS Kanton FROM Verbindet INNER JOIN Bahnhoefe ON Verbindet.Nach = Bahnhoefe.Name ORDER BY Bahnhof;"
            ],
            "metadata": {
                "azdata_cell_guid": "20c2819f-0569-47df-b30f-1cf7b4d93fa7",
                "language": "sql"
            },
            "outputs": [
                {
                    "output_type": "display_data",
                    "data": {
                        "text/html": "(9 rows affected)"
                    },
                    "metadata": {}
                },
                {
                    "output_type": "display_data",
                    "data": {
                        "text/html": "Total execution time: 00:00:00.013"
                    },
                    "metadata": {}
                },
                {
                    "output_type": "execute_result",
                    "metadata": {},
                    "execution_count": 11,
                    "data": {
                        "application/vnd.dataresource+json": {
                            "schema": {
                                "fields": [
                                    {
                                        "name": "Bahnhof"
                                    },
                                    {
                                        "name": "Kanton"
                                    }
                                ]
                            },
                            "data": [
                                {
                                    "Bahnhof": "Baden",
                                    "Kanton": "Aargau"
                                },
                                {
                                    "Bahnhof": "Basel Bad",
                                    "Kanton": "Basel Stadt"
                                },
                                {
                                    "Bahnhof": "Basel SBB",
                                    "Kanton": "Basel Stadt"
                                },
                                {
                                    "Bahnhof": "Horw",
                                    "Kanton": "Luzern"
                                },
                                {
                                    "Bahnhof": "Luzern",
                                    "Kanton": "Luzern    "
                                },
                                {
                                    "Bahnhof": "Olten",
                                    "Kanton": "Solothurn"
                                },
                                {
                                    "Bahnhof": "Thalwil",
                                    "Kanton": "Zürich"
                                },
                                {
                                    "Bahnhof": "Zug",
                                    "Kanton": "Zug"
                                },
                                {
                                    "Bahnhof": "Zürich HB",
                                    "Kanton": "Zürich"
                                }
                            ]
                        },
                        "text/html": [
                            "<table>",
                            "<tr><th>Bahnhof</th><th>Kanton</th></tr>",
                            "<tr><td>Baden</td><td>Aargau</td></tr>",
                            "<tr><td>Basel Bad</td><td>Basel Stadt</td></tr>",
                            "<tr><td>Basel SBB</td><td>Basel Stadt</td></tr>",
                            "<tr><td>Horw</td><td>Luzern</td></tr>",
                            "<tr><td>Luzern</td><td>Luzern    </td></tr>",
                            "<tr><td>Olten</td><td>Solothurn</td></tr>",
                            "<tr><td>Thalwil</td><td>Zürich</td></tr>",
                            "<tr><td>Zug</td><td>Zug</td></tr>",
                            "<tr><td>Zürich HB</td><td>Zürich</td></tr>",
                            "</table>"
                        ]
                    }
                }
            ],
            "execution_count": 11
        },
        {
            "cell_type": "code",
            "source": [
                "--Aufgabe_02--\r\n",
                "USE Zugdatenbank;\r\n",
                "SELECT ZugNr AS 'Zug Nummer', Von, Abfahrt, Nach, Ankunft FROM Verbindet JOIN Zuege ON Verbindet.Zug = Zuege.ZugNr WHERE Von = 'Luzern'"
            ],
            "metadata": {
                "azdata_cell_guid": "74253fab-09e6-4ef6-bd35-1a1e6d5b5293",
                "language": "sql"
            },
            "outputs": [
                {
                    "output_type": "display_data",
                    "data": {
                        "text/html": "(3 rows affected)"
                    },
                    "metadata": {}
                },
                {
                    "output_type": "display_data",
                    "data": {
                        "text/html": "Total execution time: 00:00:00.026"
                    },
                    "metadata": {}
                },
                {
                    "output_type": "execute_result",
                    "metadata": {},
                    "execution_count": 12,
                    "data": {
                        "application/vnd.dataresource+json": {
                            "schema": {
                                "fields": [
                                    {
                                        "name": "Zug Nummer"
                                    },
                                    {
                                        "name": "Von"
                                    },
                                    {
                                        "name": "Abfahrt"
                                    },
                                    {
                                        "name": "Nach"
                                    },
                                    {
                                        "name": "Ankunft"
                                    }
                                ]
                            },
                            "data": [
                                {
                                    "Zug Nummer": "1",
                                    "Von": "Luzern",
                                    "Abfahrt": "12:12:00",
                                    "Nach": "Zug",
                                    "Ankunft": "12:35:00"
                                },
                                {
                                    "Zug Nummer": "3",
                                    "Von": "Luzern",
                                    "Abfahrt": "14:10:00",
                                    "Nach": "Horw",
                                    "Ankunft": "14:14:00"
                                },
                                {
                                    "Zug Nummer": "5",
                                    "Von": "Luzern",
                                    "Abfahrt": "14:12:00",
                                    "Nach": "Olten",
                                    "Ankunft": "14:42:00"
                                }
                            ]
                        },
                        "text/html": [
                            "<table>",
                            "<tr><th>Zug Nummer</th><th>Von</th><th>Abfahrt</th><th>Nach</th><th>Ankunft</th></tr>",
                            "<tr><td>1</td><td>Luzern</td><td>12:12:00</td><td>Zug</td><td>12:35:00</td></tr>",
                            "<tr><td>3</td><td>Luzern</td><td>14:10:00</td><td>Horw</td><td>14:14:00</td></tr>",
                            "<tr><td>5</td><td>Luzern</td><td>14:12:00</td><td>Olten</td><td>14:42:00</td></tr>",
                            "</table>"
                        ]
                    }
                }
            ],
            "execution_count": 12
        }
    ]
}