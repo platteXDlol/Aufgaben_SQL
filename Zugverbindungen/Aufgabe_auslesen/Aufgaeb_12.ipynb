{
    "metadata": {
        "kernelspec": {
            "name": "SQL",
            "display_name": "SQL",
            "language": "sql"
        },
        "language_info": {
            "name": "sql",
            "version": ""
        }
    },
    "nbformat_minor": 2,
    "nbformat": 4,
    "cells": [
        {
            "cell_type": "code",
            "source": [
                "USE Zugdatenbank;\r\n",
                "SELECT COUNT(Abfahrt) AS 'Anzahl Abfahrten', Von FROM Verbindet GROUP BY Von ORDER BY COUNT(Abfahrt) DESC"
            ],
            "metadata": {
                "azdata_cell_guid": "ca15d5fc-1232-4393-a74e-4380e7d84918",
                "language": "sql"
            },
            "outputs": [
                {
                    "output_type": "display_data",
                    "data": {
                        "text/html": "(9 rows affected)"
                    },
                    "metadata": {}
                },
                {
                    "output_type": "display_data",
                    "data": {
                        "text/html": "Total execution time: 00:00:00.015"
                    },
                    "metadata": {}
                },
                {
                    "output_type": "execute_result",
                    "metadata": {},
                    "execution_count": 3,
                    "data": {
                        "application/vnd.dataresource+json": {
                            "schema": {
                                "fields": [
                                    {
                                        "name": "Anzahl Abfahrten"
                                    },
                                    {
                                        "name": "Von"
                                    }
                                ]
                            },
                            "data": [
                                {
                                    "Anzahl Abfahrten": "3",
                                    "Von": "Basel SBB"
                                },
                                {
                                    "Anzahl Abfahrten": "3",
                                    "Von": "Luzern"
                                },
                                {
                                    "Anzahl Abfahrten": "2",
                                    "Von": "Olten"
                                },
                                {
                                    "Anzahl Abfahrten": "2",
                                    "Von": "Thalwil"
                                },
                                {
                                    "Anzahl Abfahrten": "2",
                                    "Von": "Zug"
                                },
                                {
                                    "Anzahl Abfahrten": "2",
                                    "Von": "Zürich HB"
                                },
                                {
                                    "Anzahl Abfahrten": "2",
                                    "Von": "Baden"
                                },
                                {
                                    "Anzahl Abfahrten": "1",
                                    "Von": "Basel Bad"
                                },
                                {
                                    "Anzahl Abfahrten": "1",
                                    "Von": "Horw"
                                }
                            ]
                        },
                        "text/html": [
                            "<table>",
                            "<tr><th>Anzahl Abfahrten</th><th>Von</th></tr>",
                            "<tr><td>3</td><td>Basel SBB</td></tr>",
                            "<tr><td>3</td><td>Luzern</td></tr>",
                            "<tr><td>2</td><td>Olten</td></tr>",
                            "<tr><td>2</td><td>Thalwil</td></tr>",
                            "<tr><td>2</td><td>Zug</td></tr>",
                            "<tr><td>2</td><td>Zürich HB</td></tr>",
                            "<tr><td>2</td><td>Baden</td></tr>",
                            "<tr><td>1</td><td>Basel Bad</td></tr>",
                            "<tr><td>1</td><td>Horw</td></tr>",
                            "</table>"
                        ]
                    }
                }
            ],
            "execution_count": 3
        }
    ]
}