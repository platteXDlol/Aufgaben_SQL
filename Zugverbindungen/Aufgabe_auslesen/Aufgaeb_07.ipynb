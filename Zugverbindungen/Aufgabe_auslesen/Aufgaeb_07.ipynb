{
    "metadata": {
        "kernelspec": {
            "name": "SQL",
            "display_name": "SQL",
            "language": "sql"
        },
        "language_info": {
            "name": "sql",
            "version": ""
        }
    },
    "nbformat_minor": 2,
    "nbformat": 4,
    "cells": [
        {
            "cell_type": "code",
            "source": [
                "USE Zugdatenbank;\r\n",
                "SELECT MAX(abfahrt) FROM Verbindet, Bahnhoefe WHERE Name = 'Basel SBB'"
            ],
            "metadata": {
                "azdata_cell_guid": "38f876c9-ac22-4a05-9baf-a172c0d06d12",
                "language": "sql"
            },
            "outputs": [
                {
                    "output_type": "display_data",
                    "data": {
                        "text/html": "(1 row affected)"
                    },
                    "metadata": {}
                },
                {
                    "output_type": "display_data",
                    "data": {
                        "text/html": "Total execution time: 00:00:00.008"
                    },
                    "metadata": {}
                },
                {
                    "output_type": "execute_result",
                    "metadata": {},
                    "execution_count": 6,
                    "data": {
                        "application/vnd.dataresource+json": {
                            "schema": {
                                "fields": [
                                    {
                                        "name": "(No column name)"
                                    }
                                ]
                            },
                            "data": [
                                {
                                    "(No column name)": "15:36:00"
                                }
                            ]
                        },
                        "text/html": [
                            "<table>",
                            "<tr><th>(No column name)</th></tr>",
                            "<tr><td>15:36:00</td></tr>",
                            "</table>"
                        ]
                    }
                }
            ],
            "execution_count": 6
        }
    ]
}