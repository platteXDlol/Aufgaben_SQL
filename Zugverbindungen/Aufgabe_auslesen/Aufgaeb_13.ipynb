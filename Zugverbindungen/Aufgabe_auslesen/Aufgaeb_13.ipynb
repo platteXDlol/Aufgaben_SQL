{
    "metadata": {
        "kernelspec": {
            "name": "SQL",
            "display_name": "SQL",
            "language": "sql"
        },
        "language_info": {
            "name": "sql",
            "version": ""
        }
    },
    "nbformat_minor": 2,
    "nbformat": 4,
    "cells": [
        {
            "cell_type": "code",
            "source": [
                "USE Zugdatenbank;\r\n",
                "SELECT SUM(Gleise) AS 'Anzahl Gleise', LiegtInKanton FROM Bahnhoefe GROUP BY LiegtInKanton ORDER BY SUM(Gleise) DESC"
            ],
            "metadata": {
                "azdata_cell_guid": "34ea94d8-956a-42c0-b4a9-63905640a027",
                "language": "sql"
            },
            "outputs": [
                {
                    "output_type": "display_data",
                    "data": {
                        "text/html": "(6 rows affected)"
                    },
                    "metadata": {}
                },
                {
                    "output_type": "display_data",
                    "data": {
                        "text/html": "Total execution time: 00:00:00.005"
                    },
                    "metadata": {}
                },
                {
                    "output_type": "execute_result",
                    "metadata": {},
                    "execution_count": 13,
                    "data": {
                        "application/vnd.dataresource+json": {
                            "schema": {
                                "fields": [
                                    {
                                        "name": "Anzahl Gleise"
                                    },
                                    {
                                        "name": "LiegtInKanton"
                                    }
                                ]
                            },
                            "data": [
                                {
                                    "Anzahl Gleise": "57",
                                    "LiegtInKanton": "Zürich"
                                },
                                {
                                    "Anzahl Gleise": "21",
                                    "LiegtInKanton": "Basel Stadt"
                                },
                                {
                                    "Anzahl Gleise": "18",
                                    "LiegtInKanton": "Luzern"
                                },
                                {
                                    "Anzahl Gleise": "18",
                                    "LiegtInKanton": "Solothurn"
                                },
                                {
                                    "Anzahl Gleise": "8",
                                    "LiegtInKanton": "Zug"
                                },
                                {
                                    "Anzahl Gleise": "7",
                                    "LiegtInKanton": "Aargau"
                                }
                            ]
                        },
                        "text/html": [
                            "<table>",
                            "<tr><th>Anzahl Gleise</th><th>LiegtInKanton</th></tr>",
                            "<tr><td>57</td><td>Zürich</td></tr>",
                            "<tr><td>21</td><td>Basel Stadt</td></tr>",
                            "<tr><td>18</td><td>Luzern</td></tr>",
                            "<tr><td>18</td><td>Solothurn</td></tr>",
                            "<tr><td>8</td><td>Zug</td></tr>",
                            "<tr><td>7</td><td>Aargau</td></tr>",
                            "</table>"
                        ]
                    }
                }
            ],
            "execution_count": 13
        }
    ]
}