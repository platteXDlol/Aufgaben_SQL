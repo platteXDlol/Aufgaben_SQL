{
    "metadata": {
        "kernelspec": {
            "name": "SQL",
            "display_name": "SQL",
            "language": "sql"
        },
        "language_info": {
            "name": "sql",
            "version": ""
        }
    },
    "nbformat_minor": 2,
    "nbformat": 4,
    "cells": [
        {
            "cell_type": "code",
            "source": [
                "USE Zugdatenbank;\r\n",
                "SELECT Name, Kanton FROM Staedte WHERE name = Kanton"
            ],
            "metadata": {
                "azdata_cell_guid": "dc5948ae-7c8c-464b-9caa-f288923e1570",
                "language": "sql"
            },
            "outputs": [
                {
                    "output_type": "display_data",
                    "data": {
                        "text/html": "(3 rows affected)"
                    },
                    "metadata": {}
                },
                {
                    "output_type": "display_data",
                    "data": {
                        "text/html": "Total execution time: 00:00:00.009"
                    },
                    "metadata": {}
                },
                {
                    "output_type": "execute_result",
                    "metadata": {},
                    "execution_count": 1,
                    "data": {
                        "application/vnd.dataresource+json": {
                            "schema": {
                                "fields": [
                                    {
                                        "name": "Name"
                                    },
                                    {
                                        "name": "Kanton"
                                    }
                                ]
                            },
                            "data": [
                                {
                                    "Name": "Luzern",
                                    "Kanton": "Luzern"
                                },
                                {
                                    "Name": "Zug",
                                    "Kanton": "Zug"
                                },
                                {
                                    "Name": "Zürich",
                                    "Kanton": "Zürich"
                                }
                            ]
                        },
                        "text/html": [
                            "<table>",
                            "<tr><th>Name</th><th>Kanton</th></tr>",
                            "<tr><td>Luzern</td><td>Luzern</td></tr>",
                            "<tr><td>Zug</td><td>Zug</td></tr>",
                            "<tr><td>Zürich</td><td>Zürich</td></tr>",
                            "</table>"
                        ]
                    }
                }
            ],
            "execution_count": 1
        }
    ]
}