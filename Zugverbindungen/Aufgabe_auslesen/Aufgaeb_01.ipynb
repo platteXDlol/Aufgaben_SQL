{
    "metadata": {
        "kernelspec": {
            "name": "SQL",
            "display_name": "SQL",
            "language": "sql"
        },
        "language_info": {
            "name": "sql",
            "version": ""
        }
    },
    "nbformat_minor": 2,
    "nbformat": 4,
    "cells": [
        {
            "cell_type": "code",
            "source": [
                "USE Zugdatenbank;\r\n",
                "SELECT Name FROM Bahnhoefe WHERE LiegtInKanton = 'Basel Stadt'"
            ],
            "metadata": {
                "azdata_cell_guid": "681ab083-b14a-4e10-a767-6ad5092fffc7",
                "language": "sql"
            },
            "outputs": [
                {
                    "output_type": "display_data",
                    "data": {
                        "text/html": "(2 rows affected)"
                    },
                    "metadata": {}
                },
                {
                    "output_type": "display_data",
                    "data": {
                        "text/html": "Total execution time: 00:00:00.008"
                    },
                    "metadata": {}
                },
                {
                    "output_type": "execute_result",
                    "metadata": {},
                    "execution_count": 7,
                    "data": {
                        "application/vnd.dataresource+json": {
                            "schema": {
                                "fields": [
                                    {
                                        "name": "Name"
                                    }
                                ]
                            },
                            "data": [
                                {
                                    "Name": "Basel Bad"
                                },
                                {
                                    "Name": "Basel SBB"
                                }
                            ]
                        },
                        "text/html": [
                            "<table>",
                            "<tr><th>Name</th></tr>",
                            "<tr><td>Basel Bad</td></tr>",
                            "<tr><td>Basel SBB</td></tr>",
                            "</table>"
                        ]
                    }
                }
            ],
            "execution_count": 7
        }
    ]
}