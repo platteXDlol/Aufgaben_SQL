{
    "metadata": {
        "kernelspec": {
            "name": "SQL",
            "display_name": "SQL",
            "language": "sql"
        },
        "language_info": {
            "name": "sql",
            "version": ""
        }
    },
    "nbformat_minor": 2,
    "nbformat": 4,
    "cells": [
        {
            "cell_type": "code",
            "source": [
                "USE Zugdatenbank;\r\n",
                "SELECT DISTINCT ZugNr, Start, Ziel, Abfahrt FROM Zuege, Verbindet WHERE  Start LIKE 'Basel%'  AND Abfahrt BETWEEN '14:00:00' AND '15:00:00' "
            ],
            "metadata": {
                "azdata_cell_guid": "1da55693-b41e-4c72-8f80-550c5a9c2703",
                "language": "sql"
            },
            "outputs": [
                {
                    "output_type": "display_data",
                    "data": {
                        "text/html": "(14 rows affected)"
                    },
                    "metadata": {}
                },
                {
                    "output_type": "display_data",
                    "data": {
                        "text/html": "Total execution time: 00:00:00.024"
                    },
                    "metadata": {}
                },
                {
                    "output_type": "execute_result",
                    "metadata": {},
                    "execution_count": 35,
                    "data": {
                        "application/vnd.dataresource+json": {
                            "schema": {
                                "fields": [
                                    {
                                        "name": "ZugNr"
                                    },
                                    {
                                        "name": "Start"
                                    },
                                    {
                                        "name": "Ziel"
                                    },
                                    {
                                        "name": "Abfahrt"
                                    }
                                ]
                            },
                            "data": [
                                {
                                    "ZugNr": "6",
                                    "Start": "Basel SBB",
                                    "Ziel": "Luzern",
                                    "Abfahrt": "14:08:00"
                                },
                                {
                                    "ZugNr": "6",
                                    "Start": "Basel SBB",
                                    "Ziel": "Luzern",
                                    "Abfahrt": "14:10:00"
                                },
                                {
                                    "ZugNr": "6",
                                    "Start": "Basel SBB",
                                    "Ziel": "Luzern",
                                    "Abfahrt": "14:12:00"
                                },
                                {
                                    "ZugNr": "6",
                                    "Start": "Basel SBB",
                                    "Ziel": "Luzern",
                                    "Abfahrt": "14:21:00"
                                },
                                {
                                    "ZugNr": "6",
                                    "Start": "Basel SBB",
                                    "Ziel": "Luzern",
                                    "Abfahrt": "14:26:00"
                                },
                                {
                                    "ZugNr": "6",
                                    "Start": "Basel SBB",
                                    "Ziel": "Luzern",
                                    "Abfahrt": "14:32:00"
                                },
                                {
                                    "ZugNr": "6",
                                    "Start": "Basel SBB",
                                    "Ziel": "Luzern",
                                    "Abfahrt": "14:45:00"
                                },
                                {
                                    "ZugNr": "8",
                                    "Start": "Basel Bad",
                                    "Ziel": "Zürich HB",
                                    "Abfahrt": "14:08:00"
                                },
                                {
                                    "ZugNr": "8",
                                    "Start": "Basel Bad",
                                    "Ziel": "Zürich HB",
                                    "Abfahrt": "14:10:00"
                                },
                                {
                                    "ZugNr": "8",
                                    "Start": "Basel Bad",
                                    "Ziel": "Zürich HB",
                                    "Abfahrt": "14:12:00"
                                },
                                {
                                    "ZugNr": "8",
                                    "Start": "Basel Bad",
                                    "Ziel": "Zürich HB",
                                    "Abfahrt": "14:21:00"
                                },
                                {
                                    "ZugNr": "8",
                                    "Start": "Basel Bad",
                                    "Ziel": "Zürich HB",
                                    "Abfahrt": "14:26:00"
                                },
                                {
                                    "ZugNr": "8",
                                    "Start": "Basel Bad",
                                    "Ziel": "Zürich HB",
                                    "Abfahrt": "14:32:00"
                                },
                                {
                                    "ZugNr": "8",
                                    "Start": "Basel Bad",
                                    "Ziel": "Zürich HB",
                                    "Abfahrt": "14:45:00"
                                }
                            ]
                        },
                        "text/html": [
                            "<table>",
                            "<tr><th>ZugNr</th><th>Start</th><th>Ziel</th><th>Abfahrt</th></tr>",
                            "<tr><td>6</td><td>Basel SBB</td><td>Luzern</td><td>14:08:00</td></tr>",
                            "<tr><td>6</td><td>Basel SBB</td><td>Luzern</td><td>14:10:00</td></tr>",
                            "<tr><td>6</td><td>Basel SBB</td><td>Luzern</td><td>14:12:00</td></tr>",
                            "<tr><td>6</td><td>Basel SBB</td><td>Luzern</td><td>14:21:00</td></tr>",
                            "<tr><td>6</td><td>Basel SBB</td><td>Luzern</td><td>14:26:00</td></tr>",
                            "<tr><td>6</td><td>Basel SBB</td><td>Luzern</td><td>14:32:00</td></tr>",
                            "<tr><td>6</td><td>Basel SBB</td><td>Luzern</td><td>14:45:00</td></tr>",
                            "<tr><td>8</td><td>Basel Bad</td><td>Zürich HB</td><td>14:08:00</td></tr>",
                            "<tr><td>8</td><td>Basel Bad</td><td>Zürich HB</td><td>14:10:00</td></tr>",
                            "<tr><td>8</td><td>Basel Bad</td><td>Zürich HB</td><td>14:12:00</td></tr>",
                            "<tr><td>8</td><td>Basel Bad</td><td>Zürich HB</td><td>14:21:00</td></tr>",
                            "<tr><td>8</td><td>Basel Bad</td><td>Zürich HB</td><td>14:26:00</td></tr>",
                            "<tr><td>8</td><td>Basel Bad</td><td>Zürich HB</td><td>14:32:00</td></tr>",
                            "<tr><td>8</td><td>Basel Bad</td><td>Zürich HB</td><td>14:45:00</td></tr>",
                            "</table>"
                        ]
                    }
                }
            ],
            "execution_count": 35
        }
    ]
}