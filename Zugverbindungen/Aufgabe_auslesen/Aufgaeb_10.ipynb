{
    "metadata": {
        "kernelspec": {
            "name": "SQL",
            "display_name": "SQL",
            "language": "sql"
        },
        "language_info": {
            "name": "sql",
            "version": ""
        }
    },
    "nbformat_minor": 2,
    "nbformat": 4,
    "cells": [
        {
            "cell_type": "code",
            "source": [
                "USE Zugdatenbank;\r\n",
                "SELECT Gleise, Name FROM Bahnhoefe WHERE Gleise = (SELECT MAX(Gleise) FROM Bahnhoefe)"
            ],
            "metadata": {
                "azdata_cell_guid": "529097b3-6151-41de-b42d-2d5631c3bb82",
                "language": "sql",
                "tags": []
            },
            "outputs": [
                {
                    "output_type": "display_data",
                    "data": {
                        "text/html": "(1 row affected)"
                    },
                    "metadata": {}
                },
                {
                    "output_type": "display_data",
                    "data": {
                        "text/html": "Total execution time: 00:00:00.013"
                    },
                    "metadata": {}
                },
                {
                    "output_type": "execute_result",
                    "execution_count": 21,
                    "data": {
                        "application/vnd.dataresource+json": {
                            "schema": {
                                "fields": [
                                    {
                                        "name": "Gleise"
                                    },
                                    {
                                        "name": "Name"
                                    }
                                ]
                            },
                            "data": [
                                {
                                    "Gleise": "52",
                                    "Name": "Zürich HB"
                                }
                            ]
                        },
                        "text/html": "<table><tr><th>Gleise</th><th>Name</th></tr><tr><td>52</td><td>Zürich HB</td></tr></table>"
                    },
                    "metadata": {}
                }
            ],
            "execution_count": 21
        }
    ]
}