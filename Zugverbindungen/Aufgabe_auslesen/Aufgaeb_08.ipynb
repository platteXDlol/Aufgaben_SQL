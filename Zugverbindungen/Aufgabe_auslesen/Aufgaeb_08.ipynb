{
    "metadata": {
        "kernelspec": {
            "name": "SQL",
            "display_name": "SQL",
            "language": "sql"
        },
        "language_info": {
            "name": "sql",
            "version": ""
        }
    },
    "nbformat_minor": 2,
    "nbformat": 4,
    "cells": [
        {
            "cell_type": "code",
            "source": [
                "USE Zugdatenbank;\r\n",
                "SELECT Name, Kanton FROM Staedte WHERE Kanton LIKE '%n'"
            ],
            "metadata": {
                "azdata_cell_guid": "d2b5975c-e34f-433e-a630-d7ff3d57b4c1",
                "language": "sql"
            },
            "outputs": [
                {
                    "output_type": "display_data",
                    "data": {
                        "text/html": "(3 rows affected)"
                    },
                    "metadata": {}
                },
                {
                    "output_type": "display_data",
                    "data": {
                        "text/html": "Total execution time: 00:00:00.016"
                    },
                    "metadata": {}
                },
                {
                    "output_type": "execute_result",
                    "metadata": {},
                    "execution_count": 3,
                    "data": {
                        "application/vnd.dataresource+json": {
                            "schema": {
                                "fields": [
                                    {
                                        "name": "Name"
                                    },
                                    {
                                        "name": "Kanton"
                                    }
                                ]
                            },
                            "data": [
                                {
                                    "Name": "Horw",
                                    "Kanton": "Luzern"
                                },
                                {
                                    "Name": "Luzern",
                                    "Kanton": "Luzern"
                                },
                                {
                                    "Name": "Olten",
                                    "Kanton": "Solothurn"
                                }
                            ]
                        },
                        "text/html": [
                            "<table>",
                            "<tr><th>Name</th><th>Kanton</th></tr>",
                            "<tr><td>Horw</td><td>Luzern</td></tr>",
                            "<tr><td>Luzern</td><td>Luzern</td></tr>",
                            "<tr><td>Olten</td><td>Solothurn</td></tr>",
                            "</table>"
                        ]
                    }
                }
            ],
            "execution_count": 3
        }
    ]
}